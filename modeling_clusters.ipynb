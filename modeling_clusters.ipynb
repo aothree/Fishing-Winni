{
 "cells": [
  {
   "cell_type": "code",
   "execution_count": 13,
   "id": "faf55377-4017-4f17-8f11-39f828ab42b8",
   "metadata": {},
   "outputs": [],
   "source": [
    "import pandas as pd\n",
    "import numpy as np\n",
    "import matplotlib.pyplot as plt\n",
    "from sklearn.model_selection import train_test_split\n",
    "from sklearn.cluster import KMeans\n",
    "from sklearn.cluster import DBSCAN\n",
    "from sklearn.preprocessing import StandardScaler\n",
    "from sklearn.metrics import silhouette_score\n",
    "pd.options.display.max_columns = 100"
   ]
  },
  {
   "cell_type": "code",
   "execution_count": 2,
   "id": "0103754e-535b-496a-a449-ba910cf6cda8",
   "metadata": {},
   "outputs": [
    {
     "data": {
      "text/html": [
       "<div>\n",
       "<style scoped>\n",
       "    .dataframe tbody tr th:only-of-type {\n",
       "        vertical-align: middle;\n",
       "    }\n",
       "\n",
       "    .dataframe tbody tr th {\n",
       "        vertical-align: top;\n",
       "    }\n",
       "\n",
       "    .dataframe thead th {\n",
       "        text-align: right;\n",
       "    }\n",
       "</style>\n",
       "<table border=\"1\" class=\"dataframe\">\n",
       "  <thead>\n",
       "    <tr style=\"text-align: right;\">\n",
       "      <th></th>\n",
       "      <th>year</th>\n",
       "      <th>date</th>\n",
       "      <th>air_temp_f</th>\n",
       "      <th>water_temp_f</th>\n",
       "      <th>wind_speed_mph</th>\n",
       "      <th>wind_dir</th>\n",
       "      <th>weather</th>\n",
       "      <th>location</th>\n",
       "      <th>time_caught</th>\n",
       "      <th>fish_type</th>\n",
       "      <th>fish_length_in</th>\n",
       "      <th>water_depth_ft</th>\n",
       "      <th>skunked</th>\n",
       "      <th>lines_in</th>\n",
       "      <th>lines_out</th>\n",
       "      <th>general_loc</th>\n",
       "      <th>duration_min</th>\n",
       "      <th>month</th>\n",
       "      <th>hour</th>\n",
       "      <th>time_caught_bucket</th>\n",
       "    </tr>\n",
       "  </thead>\n",
       "  <tbody>\n",
       "    <tr>\n",
       "      <th>0</th>\n",
       "      <td>2015</td>\n",
       "      <td>2015-08-27</td>\n",
       "      <td>65.0</td>\n",
       "      <td>76.3</td>\n",
       "      <td>8</td>\n",
       "      <td>nw</td>\n",
       "      <td>sunny</td>\n",
       "      <td>north of lockes</td>\n",
       "      <td>6:20</td>\n",
       "      <td>salmon</td>\n",
       "      <td>18.0</td>\n",
       "      <td>20.0</td>\n",
       "      <td>False</td>\n",
       "      <td>6:20</td>\n",
       "      <td>9:00</td>\n",
       "      <td>lockes</td>\n",
       "      <td>160.0</td>\n",
       "      <td>8</td>\n",
       "      <td>6</td>\n",
       "      <td>[5, 7)</td>\n",
       "    </tr>\n",
       "    <tr>\n",
       "      <th>1</th>\n",
       "      <td>2015</td>\n",
       "      <td>2015-08-27</td>\n",
       "      <td>65.0</td>\n",
       "      <td>76.3</td>\n",
       "      <td>8</td>\n",
       "      <td>nw</td>\n",
       "      <td>sunny</td>\n",
       "      <td>north of lockes</td>\n",
       "      <td>7:00</td>\n",
       "      <td>rainbow</td>\n",
       "      <td>16.0</td>\n",
       "      <td>20.0</td>\n",
       "      <td>False</td>\n",
       "      <td>6:20</td>\n",
       "      <td>9:00</td>\n",
       "      <td>lockes</td>\n",
       "      <td>160.0</td>\n",
       "      <td>8</td>\n",
       "      <td>7</td>\n",
       "      <td>[7, 9)</td>\n",
       "    </tr>\n",
       "    <tr>\n",
       "      <th>2</th>\n",
       "      <td>2015</td>\n",
       "      <td>2015-08-27</td>\n",
       "      <td>65.0</td>\n",
       "      <td>76.3</td>\n",
       "      <td>8</td>\n",
       "      <td>nw</td>\n",
       "      <td>sunny</td>\n",
       "      <td>north of lockes</td>\n",
       "      <td>7:15</td>\n",
       "      <td>smallmouth</td>\n",
       "      <td>12.8</td>\n",
       "      <td>20.0</td>\n",
       "      <td>False</td>\n",
       "      <td>6:20</td>\n",
       "      <td>9:00</td>\n",
       "      <td>lockes</td>\n",
       "      <td>160.0</td>\n",
       "      <td>8</td>\n",
       "      <td>7</td>\n",
       "      <td>[7, 9)</td>\n",
       "    </tr>\n",
       "    <tr>\n",
       "      <th>3</th>\n",
       "      <td>2015</td>\n",
       "      <td>2015-08-27</td>\n",
       "      <td>65.0</td>\n",
       "      <td>76.3</td>\n",
       "      <td>8</td>\n",
       "      <td>nw</td>\n",
       "      <td>sunny</td>\n",
       "      <td>north of lockes</td>\n",
       "      <td>8:40</td>\n",
       "      <td>salmon</td>\n",
       "      <td>10.0</td>\n",
       "      <td>37.0</td>\n",
       "      <td>False</td>\n",
       "      <td>6:20</td>\n",
       "      <td>9:00</td>\n",
       "      <td>lockes</td>\n",
       "      <td>160.0</td>\n",
       "      <td>8</td>\n",
       "      <td>8</td>\n",
       "      <td>[7, 9)</td>\n",
       "    </tr>\n",
       "    <tr>\n",
       "      <th>4</th>\n",
       "      <td>2015</td>\n",
       "      <td>2015-08-28</td>\n",
       "      <td>65.0</td>\n",
       "      <td>76.3</td>\n",
       "      <td>8</td>\n",
       "      <td>nw</td>\n",
       "      <td>sunny</td>\n",
       "      <td>north of diamond</td>\n",
       "      <td>7:45</td>\n",
       "      <td>rainbow</td>\n",
       "      <td>16.0</td>\n",
       "      <td>43.0</td>\n",
       "      <td>False</td>\n",
       "      <td>7:15</td>\n",
       "      <td>10:30</td>\n",
       "      <td>diamond</td>\n",
       "      <td>195.0</td>\n",
       "      <td>8</td>\n",
       "      <td>7</td>\n",
       "      <td>[7, 9)</td>\n",
       "    </tr>\n",
       "  </tbody>\n",
       "</table>\n",
       "</div>"
      ],
      "text/plain": [
       "   year        date  air_temp_f  water_temp_f  wind_speed_mph wind_dir  \\\n",
       "0  2015  2015-08-27        65.0          76.3               8       nw   \n",
       "1  2015  2015-08-27        65.0          76.3               8       nw   \n",
       "2  2015  2015-08-27        65.0          76.3               8       nw   \n",
       "3  2015  2015-08-27        65.0          76.3               8       nw   \n",
       "4  2015  2015-08-28        65.0          76.3               8       nw   \n",
       "\n",
       "  weather          location time_caught   fish_type  fish_length_in  \\\n",
       "0   sunny   north of lockes        6:20      salmon            18.0   \n",
       "1   sunny   north of lockes        7:00     rainbow            16.0   \n",
       "2   sunny   north of lockes        7:15  smallmouth            12.8   \n",
       "3   sunny   north of lockes        8:40      salmon            10.0   \n",
       "4   sunny  north of diamond        7:45     rainbow            16.0   \n",
       "\n",
       "   water_depth_ft  skunked lines_in lines_out general_loc  duration_min  \\\n",
       "0            20.0    False     6:20      9:00      lockes         160.0   \n",
       "1            20.0    False     6:20      9:00      lockes         160.0   \n",
       "2            20.0    False     6:20      9:00      lockes         160.0   \n",
       "3            37.0    False     6:20      9:00      lockes         160.0   \n",
       "4            43.0    False     7:15     10:30     diamond         195.0   \n",
       "\n",
       "   month  hour time_caught_bucket  \n",
       "0      8     6             [5, 7)  \n",
       "1      8     7             [7, 9)  \n",
       "2      8     7             [7, 9)  \n",
       "3      8     8             [7, 9)  \n",
       "4      8     7             [7, 9)  "
      ]
     },
     "execution_count": 2,
     "metadata": {},
     "output_type": "execute_result"
    }
   ],
   "source": [
    "df = pd.read_csv('./model_data/winni_reports.csv', index_col = 0)\n",
    "df.head()"
   ]
  },
  {
   "cell_type": "code",
   "execution_count": 5,
   "id": "b66adb7f-4965-4e11-adef-bb8b1bbe2b02",
   "metadata": {},
   "outputs": [],
   "source": [
    "## Dummy columns\n",
    "df = pd.get_dummies(df, columns = ['wind_dir', 'weather', 'general_loc', 'fish_type'], drop_first = True)"
   ]
  },
  {
   "cell_type": "code",
   "execution_count": 7,
   "id": "3722772a-730c-4f5d-9894-c534c9e6b791",
   "metadata": {},
   "outputs": [],
   "source": [
    "# Define X\n",
    "X = X = df.drop(columns = ['date','fish_length_in', 'time_caught', 'lines_in', 'lines_out', 'location', 'time_caught_bucket'])\n",
    "\n",
    "# Standard Scalar\n",
    "sc = StandardScaler()\n",
    "X_scaled = sc.fit_transform(X)"
   ]
  },
  {
   "cell_type": "code",
   "execution_count": 9,
   "id": "d10ff9aa-3aed-491b-ba8b-3e7a60aef397",
   "metadata": {},
   "outputs": [
    {
     "data": {
      "image/png": "[encoded data removed]",
      "text/plain": [
       "<Figure size 432x288 with 1 Axes>"
      ]
     },
     "metadata": {
      "needs_background": "light"
     },
     "output_type": "display_data"
    }
   ],
   "source": [
    "# plot silhouette scores\n",
    "\n",
    "silhouette_list = []\n",
    "\n",
    "for k in range(2, 11):\n",
    "    kmeans = KMeans(n_clusters=k, random_state=42)\n",
    "    kmeans.fit(X_scaled)\n",
    "    silhouette_list.append(silhouette_score(X_scaled, kmeans.labels_))\n",
    "\n",
    "plt.plot(range(2, 11), silhouette_list, marker='o')\n",
    "plt.xlabel('# of Clusters')\n",
    "plt.ylabel('Score')\n",
    "plt.title('Silhouette Scores');"
   ]
  },
  {
   "cell_type": "code",
   "execution_count": 10,
   "id": "fdf154e5-c62b-4ed9-b87e-680706381a86",
   "metadata": {},
   "outputs": [
    {
     "name": "stderr",
     "output_type": "stream",
     "text": [
      "C:\\Users\\aorfa\\anaconda3\\lib\\site-packages\\sklearn\\cluster\\_kmeans.py:881: UserWarning: KMeans is known to have a memory leak on Windows with MKL, when there are less chunks than available threads. You can avoid it by setting the environment variable OMP_NUM_THREADS=2.\n",
      "  warnings.warn(\n"
     ]
    },
    {
     "data": {
      "image/png": "[encoded data removed]",
      "text/plain": [
       "<Figure size 432x288 with 1 Axes>"
      ]
     },
     "metadata": {
      "needs_background": "light"
     },
     "output_type": "display_data"
    }
   ],
   "source": [
    "# Elbow plot\n",
    "\n",
    "inertia_list = []\n",
    "\n",
    "for k in range(1, 11):\n",
    "    kmeans = KMeans(n_clusters=k, random_state=42)\n",
    "    kmeans.fit(X_scaled)\n",
    "    inertia_list.append(kmeans.inertia_)\n",
    "    \n",
    "plt.plot(range(1, 11), inertia_list, marker='o')\n",
    "plt.xlabel('# of Clusters')\n",
    "plt.ylabel('Score')\n",
    "plt.title('Inertia Scores');"
   ]
  },
  {
   "cell_type": "code",
   "execution_count": 12,
   "id": "534b8e21-f5e6-4713-8aee-f64c104cbe62",
   "metadata": {},
   "outputs": [
    {
     "data": {
      "text/plain": [
       "KMeans(n_clusters=5, random_state=42)"
      ]
     },
     "execution_count": 12,
     "metadata": {},
     "output_type": "execute_result"
    }
   ],
   "source": [
    "# Fit a K-means clustering model\n",
    "km = KMeans(n_clusters=5, random_state=42)\n",
    "km.fit(X_scaled)"
   ]
  },
  {
   "cell_type": "code",
   "execution_count": null,
   "id": "101d02e2-eeca-4c4a-8757-c56b37c24c6e",
   "metadata": {},
   "outputs": [],
   "source": []
  },
  {
   "cell_type": "code",
   "execution_count": null,
   "id": "ca7ae164-3f72-4add-b81a-e844f7256747",
   "metadata": {},
   "outputs": [],
   "source": []
  }
 ],
 "metadata": {
  "kernelspec": {
   "display_name": "Python 3 (ipykernel)",
   "language": "python",
   "name": "python3"
  },
  "language_info": {
   "codemirror_mode": {
    "name": "ipython",
    "version": 3
   },
   "file_extension": ".py",
   "mimetype": "text/x-python",
   "name": "python",
   "nbconvert_exporter": "python",
   "pygments_lexer": "ipython3",
   "version": "3.9.7"
  }
 },
 "nbformat": 4,
 "nbformat_minor": 5
}
